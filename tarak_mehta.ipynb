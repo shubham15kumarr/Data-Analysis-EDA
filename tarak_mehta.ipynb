{
 "cells": [
  {
   "cell_type": "code",
   "execution_count": 32,
   "id": "b0e80eab",
   "metadata": {},
   "outputs": [],
   "source": [
    "\n",
    "import seaborn as sns\n",
    "import pandas as pd"
   ]
  },
  {
   "cell_type": "code",
   "execution_count": 5,
   "id": "40f10a74",
   "metadata": {},
   "outputs": [],
   "source": [
    "df=pd.read_csv('TMOC.csv.zip')"
   ]
  },
  {
   "cell_type": "code",
   "execution_count": 7,
   "id": "57266e70",
   "metadata": {},
   "outputs": [
    {
     "data": {
      "text/html": [
       "<div>\n",
       "<style scoped>\n",
       "    .dataframe tbody tr th:only-of-type {\n",
       "        vertical-align: middle;\n",
       "    }\n",
       "\n",
       "    .dataframe tbody tr th {\n",
       "        vertical-align: top;\n",
       "    }\n",
       "\n",
       "    .dataframe thead th {\n",
       "        text-align: right;\n",
       "    }\n",
       "</style>\n",
       "<table border=\"1\" class=\"dataframe\">\n",
       "  <thead>\n",
       "    <tr style=\"text-align: right;\">\n",
       "      <th></th>\n",
       "      <th>Title</th>\n",
       "      <th>Channel Name</th>\n",
       "      <th>Published At</th>\n",
       "      <th>Description</th>\n",
       "      <th>Video Duration</th>\n",
       "      <th>Default Thumbnail URL</th>\n",
       "      <th>Tags</th>\n",
       "      <th>View Count</th>\n",
       "      <th>Like Count</th>\n",
       "      <th>Favorite Count</th>\n",
       "    </tr>\n",
       "  </thead>\n",
       "  <tbody>\n",
       "    <tr>\n",
       "      <th>0</th>\n",
       "      <td>Anniversary Ki Mithaas | Taarak Mehta Ka Oolta...</td>\n",
       "      <td>Sony SAB</td>\n",
       "      <td>2024-01-13T12:30:01Z</td>\n",
       "      <td>Click here to subscribe to SAB: https://www.yo...</td>\n",
       "      <td>PT20M15S</td>\n",
       "      <td>https://i.ytimg.com/vi/0JPFNotUGH8/default.jpg</td>\n",
       "      <td>['तारक मेहता', 'Ooltah Chashmah', 'sab tv chan...</td>\n",
       "      <td>191587</td>\n",
       "      <td>3047</td>\n",
       "      <td>0</td>\n",
       "    </tr>\n",
       "    <tr>\n",
       "      <th>1</th>\n",
       "      <td>Sodhi Aur Roshan Ki Sulha | Taarak Mehta Ka Oo...</td>\n",
       "      <td>Sony SAB</td>\n",
       "      <td>2024-01-12T12:30:02Z</td>\n",
       "      <td>Click here to subscribe to SAB: https://www.yo...</td>\n",
       "      <td>PT18M55S</td>\n",
       "      <td>https://i.ytimg.com/vi/4JpybbiIRH4/default.jpg</td>\n",
       "      <td>['तारक मेहता', 'Ooltah Chashmah', 'sab tv chan...</td>\n",
       "      <td>181935</td>\n",
       "      <td>2897</td>\n",
       "      <td>0</td>\n",
       "    </tr>\n",
       "    <tr>\n",
       "      <th>2</th>\n",
       "      <td>Roshan Ghar Chor Kar Mat Jao | Taarak Mehta Ka...</td>\n",
       "      <td>Sony SAB</td>\n",
       "      <td>2024-01-11T12:30:24Z</td>\n",
       "      <td>Click here to subscribe to SAB: https://www.yo...</td>\n",
       "      <td>PT21M22S</td>\n",
       "      <td>https://i.ytimg.com/vi/iwLDH9xqkhQ/default.jpg</td>\n",
       "      <td>['तारक मेहता', 'Ooltah Chashmah', 'sab tv chan...</td>\n",
       "      <td>310605</td>\n",
       "      <td>4782</td>\n",
       "      <td>0</td>\n",
       "    </tr>\n",
       "    <tr>\n",
       "      <th>3</th>\n",
       "      <td>Jethalal Bhi Hai Gayab | Taarak Mehta Ka Oolta...</td>\n",
       "      <td>Sony SAB</td>\n",
       "      <td>2024-01-10T12:30:27Z</td>\n",
       "      <td>Click here to subscribe to SAB: https://www.yo...</td>\n",
       "      <td>PT20M59S</td>\n",
       "      <td>https://i.ytimg.com/vi/v1-pUi4O-Is/default.jpg</td>\n",
       "      <td>['तारक मेहता', 'Ooltah Chashmah', 'sab tv chan...</td>\n",
       "      <td>377156</td>\n",
       "      <td>5163</td>\n",
       "      <td>0</td>\n",
       "    </tr>\n",
       "    <tr>\n",
       "      <th>4</th>\n",
       "      <td>Sodhi Kaha Hai | Taarak Mehta Ka Ooltah Chashm...</td>\n",
       "      <td>Sony SAB</td>\n",
       "      <td>2024-01-09T12:30:24Z</td>\n",
       "      <td>Click here to subscribe to SAB: https://www.yo...</td>\n",
       "      <td>PT19M52S</td>\n",
       "      <td>https://i.ytimg.com/vi/dbMIAm0GV3I/default.jpg</td>\n",
       "      <td>['तारक मेहता', 'Ooltah Chashmah', 'sab tv chan...</td>\n",
       "      <td>303564</td>\n",
       "      <td>4195</td>\n",
       "      <td>0</td>\n",
       "    </tr>\n",
       "  </tbody>\n",
       "</table>\n",
       "</div>"
      ],
      "text/plain": [
       "                                               Title Channel Name  \\\n",
       "0  Anniversary Ki Mithaas | Taarak Mehta Ka Oolta...     Sony SAB   \n",
       "1  Sodhi Aur Roshan Ki Sulha | Taarak Mehta Ka Oo...     Sony SAB   \n",
       "2  Roshan Ghar Chor Kar Mat Jao | Taarak Mehta Ka...     Sony SAB   \n",
       "3  Jethalal Bhi Hai Gayab | Taarak Mehta Ka Oolta...     Sony SAB   \n",
       "4  Sodhi Kaha Hai | Taarak Mehta Ka Ooltah Chashm...     Sony SAB   \n",
       "\n",
       "           Published At                                        Description  \\\n",
       "0  2024-01-13T12:30:01Z  Click here to subscribe to SAB: https://www.yo...   \n",
       "1  2024-01-12T12:30:02Z  Click here to subscribe to SAB: https://www.yo...   \n",
       "2  2024-01-11T12:30:24Z  Click here to subscribe to SAB: https://www.yo...   \n",
       "3  2024-01-10T12:30:27Z  Click here to subscribe to SAB: https://www.yo...   \n",
       "4  2024-01-09T12:30:24Z  Click here to subscribe to SAB: https://www.yo...   \n",
       "\n",
       "  Video Duration                           Default Thumbnail URL  \\\n",
       "0       PT20M15S  https://i.ytimg.com/vi/0JPFNotUGH8/default.jpg   \n",
       "1       PT18M55S  https://i.ytimg.com/vi/4JpybbiIRH4/default.jpg   \n",
       "2       PT21M22S  https://i.ytimg.com/vi/iwLDH9xqkhQ/default.jpg   \n",
       "3       PT20M59S  https://i.ytimg.com/vi/v1-pUi4O-Is/default.jpg   \n",
       "4       PT19M52S  https://i.ytimg.com/vi/dbMIAm0GV3I/default.jpg   \n",
       "\n",
       "                                                Tags  View Count  Like Count  \\\n",
       "0  ['तारक मेहता', 'Ooltah Chashmah', 'sab tv chan...      191587        3047   \n",
       "1  ['तारक मेहता', 'Ooltah Chashmah', 'sab tv chan...      181935        2897   \n",
       "2  ['तारक मेहता', 'Ooltah Chashmah', 'sab tv chan...      310605        4782   \n",
       "3  ['तारक मेहता', 'Ooltah Chashmah', 'sab tv chan...      377156        5163   \n",
       "4  ['तारक मेहता', 'Ooltah Chashmah', 'sab tv chan...      303564        4195   \n",
       "\n",
       "   Favorite Count  \n",
       "0               0  \n",
       "1               0  \n",
       "2               0  \n",
       "3               0  \n",
       "4               0  "
      ]
     },
     "execution_count": 7,
     "metadata": {},
     "output_type": "execute_result"
    }
   ],
   "source": [
    "df.head()"
   ]
  },
  {
   "cell_type": "code",
   "execution_count": 19,
   "id": "8389c029",
   "metadata": {
    "scrolled": true
   },
   "outputs": [
    {
     "data": {
      "text/plain": [
       "<Axes: ylabel='count'>"
      ]
     },
     "execution_count": 19,
     "metadata": {},
     "output_type": "execute_result"
    },
    {
     "data": {
      "image/png": "[encoded data removed]",
      "text/plain": [
       "<Figure size 640x480 with 1 Axes>"
      ]
     },
     "metadata": {},
     "output_type": "display_data"
    }
   ],
   "source": [
    "df['Favorite Count'].value_counts().plot(kind='pie',autopct='%2f')"
   ]
  },
  {
   "cell_type": "code",
   "execution_count": 13,
   "id": "75d9972b",
   "metadata": {},
   "outputs": [
    {
     "data": {
      "text/plain": [
       "Like Count\n",
       "32607     3\n",
       "83756     2\n",
       "32702     2\n",
       "124564    2\n",
       "18262     2\n",
       "         ..\n",
       "35559     1\n",
       "42895     1\n",
       "41274     1\n",
       "30404     1\n",
       "76208     1\n",
       "Name: count, Length: 1588, dtype: int64"
      ]
     },
     "execution_count": 13,
     "metadata": {},
     "output_type": "execute_result"
    }
   ],
   "source": [
    "df['Like Count'].value_counts()"
   ]
  },
  {
   "cell_type": "code",
   "execution_count": 26,
   "id": "2690297b",
   "metadata": {},
   "outputs": [
    {
     "data": {
      "text/plain": [
       "(array([ 75., 117.,  85., 100.,  87.,  71.,  94.,  65.,  71.,  57.,  53.,\n",
       "         55.,  48.,  61.,  58.,  46.,  43.,  31.,  36.,  34.,  27.,  24.,\n",
       "         30.,  12.,  25.,  16.,  18.,  11.,  12.,  24.,  11.,  10.,   8.,\n",
       "         12.,   6.,   6.,   4.,   6.,  11.,   8.,   1.,   1.,   2.,   2.,\n",
       "          2.,   1.,   2.,   0.,   1.,   1.,   1.,   3.,   0.,   3.,   1.,\n",
       "          0.,   1.,   0.,   1.,   0.,   1.,   1.,   0.,   0.,   1.,   0.,\n",
       "          1.,   2.,   0.,   0.,   0.,   0.,   0.,   0.,   0.,   1.,   0.,\n",
       "          1.,   0.,   1.,   0.,   0.,   0.,   0.,   0.,   0.,   2.,   0.,\n",
       "          0.,   0.,   0.,   0.,   1.,   0.,   0.,   0.,   0.,   0.,   0.,\n",
       "          1.]),\n",
       " array([  2897.  ,   7835.73,  12774.46,  17713.19,  22651.92,  27590.65,\n",
       "         32529.38,  37468.11,  42406.84,  47345.57,  52284.3 ,  57223.03,\n",
       "         62161.76,  67100.49,  72039.22,  76977.95,  81916.68,  86855.41,\n",
       "         91794.14,  96732.87, 101671.6 , 106610.33, 111549.06, 116487.79,\n",
       "        121426.52, 126365.25, 131303.98, 136242.71, 141181.44, 146120.17,\n",
       "        151058.9 , 155997.63, 160936.36, 165875.09, 170813.82, 175752.55,\n",
       "        180691.28, 185630.01, 190568.74, 195507.47, 200446.2 , 205384.93,\n",
       "        210323.66, 215262.39, 220201.12, 225139.85, 230078.58, 235017.31,\n",
       "        239956.04, 244894.77, 249833.5 , 254772.23, 259710.96, 264649.69,\n",
       "        269588.42, 274527.15, 279465.88, 284404.61, 289343.34, 294282.07,\n",
       "        299220.8 , 304159.53, 309098.26, 314036.99, 318975.72, 323914.45,\n",
       "        328853.18, 333791.91, 338730.64, 343669.37, 348608.1 , 353546.83,\n",
       "        358485.56, 363424.29, 368363.02, 373301.75, 378240.48, 383179.21,\n",
       "        388117.94, 393056.67, 397995.4 , 402934.13, 407872.86, 412811.59,\n",
       "        417750.32, 422689.05, 427627.78, 432566.51, 437505.24, 442443.97,\n",
       "        447382.7 , 452321.43, 457260.16, 462198.89, 467137.62, 472076.35,\n",
       "        477015.08, 481953.81, 486892.54, 491831.27, 496770.  ]),\n",
       " <BarContainer object of 100 artists>)"
      ]
     },
     "execution_count": 26,
     "metadata": {},
     "output_type": "execute_result"
    },
    {
     "data": {
      "image/png": "[encoded data removed]",
      "text/plain": [
       "<Figure size 640x480 with 1 Axes>"
      ]
     },
     "metadata": {},
     "output_type": "display_data"
    }
   ],
   "source": [
    "import matplotlib.pyplot as plt\n",
    "plt.hist(df['Like Count'],bins=100)"
   ]
  },
  {
   "cell_type": "code",
   "execution_count": 27,
   "id": "4f3b4a28",
   "metadata": {
    "scrolled": true
   },
   "outputs": [
    {
     "name": "stderr",
     "output_type": "stream",
     "text": [
      "C:\\Users\\shubh\\AppData\\Local\\Temp\\ipykernel_9300\\684955674.py:1: UserWarning: \n",
      "\n",
      "`distplot` is a deprecated function and will be removed in seaborn v0.14.0.\n",
      "\n",
      "Please adapt your code to use either `displot` (a figure-level function with\n",
      "similar flexibility) or `histplot` (an axes-level function for histograms).\n",
      "\n",
      "For a guide to updating your code to use the new functions, please see\n",
      "https://gist.github.com/mwaskom/de44147ed2974457ad6372750bbe5751\n",
      "\n",
      "  sns.distplot(df['Like Count'])\n"
     ]
    },
    {
     "data": {
      "text/plain": [
       "<Axes: xlabel='Like Count', ylabel='Density'>"
      ]
     },
     "execution_count": 27,
     "metadata": {},
     "output_type": "execute_result"
    },
    {
     "data": {
      "image/png": "[encoded data removed]",
      "text/plain": [
       "<Figure size 640x480 with 1 Axes>"
      ]
     },
     "metadata": {},
     "output_type": "display_data"
    }
   ],
   "source": [
    "sns.distplot(df['Like Count'])"
   ]
  },
  {
   "cell_type": "code",
   "execution_count": 28,
   "id": "8a991318",
   "metadata": {},
   "outputs": [
    {
     "data": {
      "text/plain": [
       "<Axes: >"
      ]
     },
     "execution_count": 28,
     "metadata": {},
     "output_type": "execute_result"
    },
    {
     "data": {
      "image/png": "[encoded data removed]",
      "text/plain": [
       "<Figure size 640x480 with 1 Axes>"
      ]
     },
     "metadata": {},
     "output_type": "display_data"
    }
   ],
   "source": [
    "sns.boxplot(df['View Count'])"
   ]
  },
  {
   "cell_type": "code",
   "execution_count": 34,
   "id": "1c28d267",
   "metadata": {},
   "outputs": [
    {
     "data": {
      "text/html": [
       "<div>\n",
       "<style scoped>\n",
       "    .dataframe tbody tr th:only-of-type {\n",
       "        vertical-align: middle;\n",
       "    }\n",
       "\n",
       "    .dataframe tbody tr th {\n",
       "        vertical-align: top;\n",
       "    }\n",
       "\n",
       "    .dataframe thead th {\n",
       "        text-align: right;\n",
       "    }\n",
       "</style>\n",
       "<table border=\"1\" class=\"dataframe\">\n",
       "  <thead>\n",
       "    <tr style=\"text-align: right;\">\n",
       "      <th></th>\n",
       "      <th>Title</th>\n",
       "      <th>Channel Name</th>\n",
       "      <th>Published At</th>\n",
       "      <th>Description</th>\n",
       "      <th>Video Duration</th>\n",
       "      <th>Default Thumbnail URL</th>\n",
       "      <th>Tags</th>\n",
       "      <th>View Count</th>\n",
       "      <th>Like Count</th>\n",
       "      <th>Favorite Count</th>\n",
       "    </tr>\n",
       "  </thead>\n",
       "  <tbody>\n",
       "    <tr>\n",
       "      <th>936</th>\n",
       "      <td>Taarak Mehta Ka Ooltah Chashmah - तारक मेहता  ...</td>\n",
       "      <td>Sony SAB</td>\n",
       "      <td>2021-02-08T07:00:06Z</td>\n",
       "      <td>Click here to subscribe to SAB TV: https://www...</td>\n",
       "      <td>PT20M51S</td>\n",
       "      <td>https://i.ytimg.com/vi/Z0k5NG3lOYo/default.jpg</td>\n",
       "      <td>['Taarak Mehta Ka Ooltah Chashmah', 'तारक मेहत...</td>\n",
       "      <td>8607098</td>\n",
       "      <td>88309</td>\n",
       "      <td>0</td>\n",
       "    </tr>\n",
       "    <tr>\n",
       "      <th>762</th>\n",
       "      <td>Taarak Mehta Ka Ooltah Chashmah - Ep 3187 - Fu...</td>\n",
       "      <td>Sony SAB</td>\n",
       "      <td>2021-09-06T16:30:02Z</td>\n",
       "      <td>Click here to subscribe to SAB TV: https://www...</td>\n",
       "      <td>PT21M9S</td>\n",
       "      <td>https://i.ytimg.com/vi/ApL31f6CIXQ/default.jpg</td>\n",
       "      <td>['तारक मेहता', 'Ooltah Chashmah', 'sab tv chan...</td>\n",
       "      <td>3175908</td>\n",
       "      <td>41206</td>\n",
       "      <td>0</td>\n",
       "    </tr>\n",
       "    <tr>\n",
       "      <th>1527</th>\n",
       "      <td>Taarak Mehta Ka Ooltah Chashmah - Ep 2424 - Fu...</td>\n",
       "      <td>Sony SAB</td>\n",
       "      <td>2018-03-17T12:44:25Z</td>\n",
       "      <td>Click here to subscribe to SonyLIV  : http://w...</td>\n",
       "      <td>PT20M32S</td>\n",
       "      <td>https://i.ytimg.com/vi/64NJSqHJIoA/default.jpg</td>\n",
       "      <td>['sab tv channel', 'sab tv live', 'sab tv seri...</td>\n",
       "      <td>3595750</td>\n",
       "      <td>34679</td>\n",
       "      <td>0</td>\n",
       "    </tr>\n",
       "    <tr>\n",
       "      <th>389</th>\n",
       "      <td>Bhartiya Sanskriti Ki Khaasiyat-Taarak Mehta K...</td>\n",
       "      <td>Sony SAB</td>\n",
       "      <td>2022-10-12T14:00:19Z</td>\n",
       "      <td>Click here to subscribe to SAB TV: https://www...</td>\n",
       "      <td>PT17M33S</td>\n",
       "      <td>https://i.ytimg.com/vi/buG0vrRYr6I/default.jpg</td>\n",
       "      <td>['तारक मेहता', 'Ooltah Chashmah', 'sab tv chan...</td>\n",
       "      <td>873906</td>\n",
       "      <td>11282</td>\n",
       "      <td>0</td>\n",
       "    </tr>\n",
       "    <tr>\n",
       "      <th>1405</th>\n",
       "      <td>Taarak Mehta Ka Ooltah Chashmah - Ep 2547 - Fu...</td>\n",
       "      <td>Sony SAB</td>\n",
       "      <td>2018-09-06T14:26:16Z</td>\n",
       "      <td>Click here to subscribe to SonyLIV  : http://w...</td>\n",
       "      <td>PT19M47S</td>\n",
       "      <td>https://i.ytimg.com/vi/g7-alD4eAfU/default.jpg</td>\n",
       "      <td>['sab tv channel', 'sab tv serials', 'comedy c...</td>\n",
       "      <td>36856101</td>\n",
       "      <td>307711</td>\n",
       "      <td>0</td>\n",
       "    </tr>\n",
       "  </tbody>\n",
       "</table>\n",
       "</div>"
      ],
      "text/plain": [
       "                                                  Title Channel Name  \\\n",
       "936   Taarak Mehta Ka Ooltah Chashmah - तारक मेहता  ...     Sony SAB   \n",
       "762   Taarak Mehta Ka Ooltah Chashmah - Ep 3187 - Fu...     Sony SAB   \n",
       "1527  Taarak Mehta Ka Ooltah Chashmah - Ep 2424 - Fu...     Sony SAB   \n",
       "389   Bhartiya Sanskriti Ki Khaasiyat-Taarak Mehta K...     Sony SAB   \n",
       "1405  Taarak Mehta Ka Ooltah Chashmah - Ep 2547 - Fu...     Sony SAB   \n",
       "\n",
       "              Published At                                        Description  \\\n",
       "936   2021-02-08T07:00:06Z  Click here to subscribe to SAB TV: https://www...   \n",
       "762   2021-09-06T16:30:02Z  Click here to subscribe to SAB TV: https://www...   \n",
       "1527  2018-03-17T12:44:25Z  Click here to subscribe to SonyLIV  : http://w...   \n",
       "389   2022-10-12T14:00:19Z  Click here to subscribe to SAB TV: https://www...   \n",
       "1405  2018-09-06T14:26:16Z  Click here to subscribe to SonyLIV  : http://w...   \n",
       "\n",
       "     Video Duration                           Default Thumbnail URL  \\\n",
       "936        PT20M51S  https://i.ytimg.com/vi/Z0k5NG3lOYo/default.jpg   \n",
       "762         PT21M9S  https://i.ytimg.com/vi/ApL31f6CIXQ/default.jpg   \n",
       "1527       PT20M32S  https://i.ytimg.com/vi/64NJSqHJIoA/default.jpg   \n",
       "389        PT17M33S  https://i.ytimg.com/vi/buG0vrRYr6I/default.jpg   \n",
       "1405       PT19M47S  https://i.ytimg.com/vi/g7-alD4eAfU/default.jpg   \n",
       "\n",
       "                                                   Tags  View Count  \\\n",
       "936   ['Taarak Mehta Ka Ooltah Chashmah', 'तारक मेहत...     8607098   \n",
       "762   ['तारक मेहता', 'Ooltah Chashmah', 'sab tv chan...     3175908   \n",
       "1527  ['sab tv channel', 'sab tv live', 'sab tv seri...     3595750   \n",
       "389   ['तारक मेहता', 'Ooltah Chashmah', 'sab tv chan...      873906   \n",
       "1405  ['sab tv channel', 'sab tv serials', 'comedy c...    36856101   \n",
       "\n",
       "      Like Count  Favorite Count  \n",
       "936        88309               0  \n",
       "762        41206               0  \n",
       "1527       34679               0  \n",
       "389        11282               0  \n",
       "1405      307711               0  "
      ]
     },
     "execution_count": 34,
     "metadata": {},
     "output_type": "execute_result"
    }
   ],
   "source": [
    "df.sample(5)"
   ]
  },
  {
   "cell_type": "code",
   "execution_count": 35,
   "id": "e6b9f9a5",
   "metadata": {},
   "outputs": [
    {
     "name": "stdout",
     "output_type": "stream",
     "text": [
      "<class 'pandas.core.frame.DataFrame'>\n",
      "RangeIndex: 1604 entries, 0 to 1603\n",
      "Data columns (total 10 columns):\n",
      " #   Column                 Non-Null Count  Dtype \n",
      "---  ------                 --------------  ----- \n",
      " 0   Title                  1604 non-null   object\n",
      " 1   Channel Name           1604 non-null   object\n",
      " 2   Published At           1604 non-null   object\n",
      " 3   Description            1604 non-null   object\n",
      " 4   Video Duration         1604 non-null   object\n",
      " 5   Default Thumbnail URL  1604 non-null   object\n",
      " 6   Tags                   1604 non-null   object\n",
      " 7   View Count             1604 non-null   int64 \n",
      " 8   Like Count             1604 non-null   int64 \n",
      " 9   Favorite Count         1604 non-null   int64 \n",
      "dtypes: int64(3), object(7)\n",
      "memory usage: 125.4+ KB\n"
     ]
    }
   ],
   "source": [
    "df.info()"
   ]
  },
  {
   "cell_type": "code",
   "execution_count": 37,
   "id": "a3fafef8",
   "metadata": {},
   "outputs": [
    {
     "data": {
      "text/plain": [
       "Title                    0\n",
       "Channel Name             0\n",
       "Published At             0\n",
       "Description              0\n",
       "Video Duration           0\n",
       "Default Thumbnail URL    0\n",
       "Tags                     0\n",
       "View Count               0\n",
       "Like Count               0\n",
       "Favorite Count           0\n",
       "dtype: int64"
      ]
     },
     "execution_count": 37,
     "metadata": {},
     "output_type": "execute_result"
    }
   ],
   "source": [
    "df.isnull().sum()"
   ]
  },
  {
   "cell_type": "code",
   "execution_count": 38,
   "id": "8575f78c",
   "metadata": {},
   "outputs": [
    {
     "data": {
      "text/html": [
       "<div>\n",
       "<style scoped>\n",
       "    .dataframe tbody tr th:only-of-type {\n",
       "        vertical-align: middle;\n",
       "    }\n",
       "\n",
       "    .dataframe tbody tr th {\n",
       "        vertical-align: top;\n",
       "    }\n",
       "\n",
       "    .dataframe thead th {\n",
       "        text-align: right;\n",
       "    }\n",
       "</style>\n",
       "<table border=\"1\" class=\"dataframe\">\n",
       "  <thead>\n",
       "    <tr style=\"text-align: right;\">\n",
       "      <th></th>\n",
       "      <th>View Count</th>\n",
       "      <th>Like Count</th>\n",
       "      <th>Favorite Count</th>\n",
       "    </tr>\n",
       "  </thead>\n",
       "  <tbody>\n",
       "    <tr>\n",
       "      <th>count</th>\n",
       "      <td>1.604000e+03</td>\n",
       "      <td>1604.000000</td>\n",
       "      <td>1604.0</td>\n",
       "    </tr>\n",
       "    <tr>\n",
       "      <th>mean</th>\n",
       "      <td>6.260435e+06</td>\n",
       "      <td>65735.651496</td>\n",
       "      <td>0.0</td>\n",
       "    </tr>\n",
       "    <tr>\n",
       "      <th>std</th>\n",
       "      <td>6.450136e+06</td>\n",
       "      <td>57687.798176</td>\n",
       "      <td>0.0</td>\n",
       "    </tr>\n",
       "    <tr>\n",
       "      <th>min</th>\n",
       "      <td>1.819350e+05</td>\n",
       "      <td>2897.000000</td>\n",
       "      <td>0.0</td>\n",
       "    </tr>\n",
       "    <tr>\n",
       "      <th>25%</th>\n",
       "      <td>1.826301e+06</td>\n",
       "      <td>23831.250000</td>\n",
       "      <td>0.0</td>\n",
       "    </tr>\n",
       "    <tr>\n",
       "      <th>50%</th>\n",
       "      <td>4.270720e+06</td>\n",
       "      <td>50780.500000</td>\n",
       "      <td>0.0</td>\n",
       "    </tr>\n",
       "    <tr>\n",
       "      <th>75%</th>\n",
       "      <td>8.592719e+06</td>\n",
       "      <td>89700.750000</td>\n",
       "      <td>0.0</td>\n",
       "    </tr>\n",
       "    <tr>\n",
       "      <th>max</th>\n",
       "      <td>6.470596e+07</td>\n",
       "      <td>496770.000000</td>\n",
       "      <td>0.0</td>\n",
       "    </tr>\n",
       "  </tbody>\n",
       "</table>\n",
       "</div>"
      ],
      "text/plain": [
       "         View Count     Like Count  Favorite Count\n",
       "count  1.604000e+03    1604.000000          1604.0\n",
       "mean   6.260435e+06   65735.651496             0.0\n",
       "std    6.450136e+06   57687.798176             0.0\n",
       "min    1.819350e+05    2897.000000             0.0\n",
       "25%    1.826301e+06   23831.250000             0.0\n",
       "50%    4.270720e+06   50780.500000             0.0\n",
       "75%    8.592719e+06   89700.750000             0.0\n",
       "max    6.470596e+07  496770.000000             0.0"
      ]
     },
     "execution_count": 38,
     "metadata": {},
     "output_type": "execute_result"
    }
   ],
   "source": [
    "df.describe()"
   ]
  },
  {
   "cell_type": "code",
   "execution_count": 39,
   "id": "86a08543",
   "metadata": {},
   "outputs": [
    {
     "data": {
      "text/plain": [
       "7"
      ]
     },
     "execution_count": 39,
     "metadata": {},
     "output_type": "execute_result"
    }
   ],
   "source": [
    "df.duplicated().sum()"
   ]
  },
  {
   "cell_type": "code",
   "execution_count": 41,
   "id": "a74feed6",
   "metadata": {},
   "outputs": [],
   "source": [
    "df.to_csv('TMOC.csv.zip')"
   ]
  },
  {
   "cell_type": "code",
   "execution_count": 2,
   "id": "41e083c4",
   "metadata": {},
   "outputs": [],
   "source": [
    "import matplotlib.pyplot as plt"
   ]
  },
  {
   "cell_type": "code",
   "execution_count": 3,
   "id": "77f6f9c1",
   "metadata": {},
   "outputs": [
    {
     "data": {
      "text/plain": [
       "<Figure size 640x480 with 0 Axes>"
      ]
     },
     "metadata": {},
     "output_type": "display_data"
    }
   ],
   "source": [
    "plt.savefig('plot.png')"
   ]
  },
  {
   "cell_type": "code",
   "execution_count": null,
   "id": "3cc6b3a5",
   "metadata": {},
   "outputs": [],
   "source": []
  }
 ],
 "metadata": {
  "kernelspec": {
   "display_name": "Python 3 (ipykernel)",
   "language": "python",
   "name": "python3"
  },
  "language_info": {
   "codemirror_mode": {
    "name": "ipython",
    "version": 3
   },
   "file_extension": ".py",
   "mimetype": "text/x-python",
   "name": "python",
   "nbconvert_exporter": "python",
   "pygments_lexer": "ipython3",
   "version": "3.11.5"
  }
 },
 "nbformat": 4,
 "nbformat_minor": 5
}
